{
 "cells": [
  {
   "cell_type": "markdown",
   "metadata": {},
   "source": [
    "# Forklift Detection - Webcam"
   ]
  },
  {
   "cell_type": "code",
   "execution_count": 1,
   "metadata": {},
   "outputs": [],
   "source": [
    "# Import necessary packages\n",
    "import cv2\n",
    "import numpy as np\n",
    "from ultralytics import YOLO\n"
   ]
  },
  {
   "cell_type": "code",
   "execution_count": 2,
   "metadata": {},
   "outputs": [],
   "source": [
    "# Load the YOLO model\n",
    "model = YOLO(\"yolomodels/best_forklift.pt\")\n"
   ]
  },
  {
   "cell_type": "code",
   "execution_count": 3,
   "metadata": {},
   "outputs": [],
   "source": [
    "\n",
    "# Function to calculate the Euclidean distance between two points\n",
    "def euclidean_distance(point1, point2):\n",
    "    return np.linalg.norm(np.array(point1) - np.array(point2))\n",
    "\n",
    "# Function to determine if a person is very close to a forklift\n",
    "def is_close(person_box, forklift_box, threshold=350):\n",
    "    person_center = ((person_box[0] + person_box[2]) / 2, (person_box[1] + person_box[3]) / 2)\n",
    "    forklift_center = ((forklift_box[0] + forklift_box[2]) / 2, (forklift_box[1] + forklift_box[3]) / 2)\n",
    "    distance = euclidean_distance(person_center, forklift_center)\n",
    "    return distance < threshold\n"
   ]
  },
  {
   "cell_type": "code",
   "execution_count": null,
   "metadata": {},
   "outputs": [],
   "source": [
    "# Open the webcam\n",
    "cap = cv2.VideoCapture(0)"
   ]
  },
  {
   "cell_type": "code",
   "execution_count": null,
   "metadata": {},
   "outputs": [],
   "source": [
    "import cv2\n",
    "import numpy as np\n",
    "\n",
    "# Set frame skip value\n",
    "frame_skip = 1 # Process every 5th frame\n",
    "\n",
    "# Initialize frame counter\n",
    "frame_count = 0\n",
    "\n",
    "# Process the video frame by frame\n",
    "while cap.isOpened():\n",
    "    ret, frame = cap.read()\n",
    "    if not ret:\n",
    "        break\n",
    "    \n",
    "    # Skip frames\n",
    "    frame_count += 1\n",
    "    if frame_count % frame_skip != 0:\n",
    "        continue\n",
    "    \n",
    "    # Run inference on the frame\n",
    "    results = model(frame)\n",
    "    \n",
    "    # Extract the bounding boxes for detected objects\n",
    "    persons = []\n",
    "    forklifts = []\n",
    "    drivers = []\n",
    "    alert_triggered = False\n",
    "    \n",
    "    for result in results:\n",
    "        for obj in result.boxes.data:\n",
    "            x1, y1, x2, y2, conf, cls = obj[:6]\n",
    "            class_name = result.names[int(cls)]\n",
    "            if class_name == 'person':\n",
    "                persons.append((x1, y1, x2, y2))\n",
    "            elif class_name == 'forklift':\n",
    "                forklifts.append((x1, y1, x2, y2))\n",
    "            elif class_name == 'driver':\n",
    "                drivers.append((x1, y1, x2, y2))\n",
    "            \n",
    "            # Draw bounding box\n",
    "            if class_name == 'person':\n",
    "                color = (0, 255, 0)  # Green for person\n",
    "            elif class_name == 'forklift':\n",
    "                color = (255, 0, 0)  # Blue for forklift\n",
    "            elif class_name == 'driver':\n",
    "                color = (0, 255, 255)  # Yellow for driver\n",
    "                \n",
    "            cv2.rectangle(frame, (int(x1), int(y1)), (int(x2), int(y2)), color, 2)\n",
    "            \n",
    "            # Put label with confidence\n",
    "            label = f\"{class_name} {conf:.2f}\"\n",
    "            cv2.putText(frame, label, (int(x1), int(y1) - 10), cv2.FONT_HERSHEY_SIMPLEX, 0.5, color, 2)\n",
    "    \n",
    "    # Check for close proximity between persons and forklifts if a driver is detected\n",
    "    #if drivers:  # Only proceed if at least one driver is detected\n",
    "    for person in persons:\n",
    "        for forklift in forklifts:\n",
    "            if is_close(person, forklift):\n",
    "                alert_triggered = True\n",
    "                print(\"ALERT: Person is very close to a forklift while the driver is present!\")\n",
    "                cv2.putText(frame, \"ALERT: Person very close to a forklift!\", (50, 50), cv2.FONT_HERSHEY_SIMPLEX, 1, (0, 0, 255), 3)\n",
    "                break  # No need to check further once an alert is triggered\n",
    "    \n",
    "    # Display the frame\n",
    "    cv2.imshow('Video', frame)\n",
    "    \n",
    "    # Break the loop if 'q' is pressed\n",
    "    if cv2.waitKey(1) & 0xFF == ord('q'):\n",
    "        break\n",
    "\n",
    "cap.release()\n",
    "cv2.destroyAllWindows()\n"
   ]
  },
  {
   "cell_type": "code",
   "execution_count": 6,
   "metadata": {},
   "outputs": [],
   "source": [
    "# Release the video capture object and close all windows\n",
    "cap.release()\n",
    "cv2.destroyAllWindows()\n"
   ]
  }
 ],
 "metadata": {
  "kernelspec": {
   "display_name": "yolov8-env",
   "language": "python",
   "name": "python3"
  },
  "language_info": {
   "codemirror_mode": {
    "name": "ipython",
    "version": 3
   },
   "file_extension": ".py",
   "mimetype": "text/x-python",
   "name": "python",
   "nbconvert_exporter": "python",
   "pygments_lexer": "ipython3",
   "version": "3.8.0"
  }
 },
 "nbformat": 4,
 "nbformat_minor": 2
}
